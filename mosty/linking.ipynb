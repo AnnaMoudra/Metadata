{
 "cells": [
  {
   "cell_type": "code",
   "execution_count": 1,
   "metadata": {},
   "outputs": [
    {
     "name": "stderr",
     "output_type": "stream",
     "text": [
      "/home/metamat/anicka/META/block/venv/lib/python3.9/site-packages/geopandas/_compat.py:112: UserWarning: The Shapely GEOS version (3.10.2-CAPI-1.16.0) is incompatible with the GEOS version PyGEOS was compiled with (3.10.1-CAPI-1.16.0). Conversions between both will be slow.\n",
      "  warnings.warn(\n"
     ]
    }
   ],
   "source": [
    "import geopandas as gpd"
   ]
  },
  {
   "cell_type": "markdown",
   "metadata": {},
   "source": [
    "## Loading bridge geo data"
   ]
  },
  {
   "cell_type": "code",
   "execution_count": 2,
   "metadata": {},
   "outputs": [],
   "source": [
    "df_geo = gpd.read_file('../../data/mosty_shp/mosty.shp')\n",
    "crs = df_geo.crs;"
   ]
  },
  {
   "cell_type": "code",
   "execution_count": 3,
   "metadata": {},
   "outputs": [
    {
     "data": {
      "text/html": [
       "<div>\n",
       "<style scoped>\n",
       "    .dataframe tbody tr th:only-of-type {\n",
       "        vertical-align: middle;\n",
       "    }\n",
       "\n",
       "    .dataframe tbody tr th {\n",
       "        vertical-align: top;\n",
       "    }\n",
       "\n",
       "    .dataframe thead th {\n",
       "        text-align: right;\n",
       "    }\n",
       "</style>\n",
       "<table border=\"1\" class=\"dataframe\">\n",
       "  <thead>\n",
       "    <tr style=\"text-align: right;\">\n",
       "      <th></th>\n",
       "      <th>Elevation</th>\n",
       "      <th>Shape_Leng</th>\n",
       "      <th>Shape_Area</th>\n",
       "      <th>AKTUALIZAC</th>\n",
       "      <th>ID_MOST</th>\n",
       "      <th>geometry</th>\n",
       "    </tr>\n",
       "  </thead>\n",
       "  <tbody>\n",
       "    <tr>\n",
       "      <th>0</th>\n",
       "      <td>352.404</td>\n",
       "      <td>30.274879</td>\n",
       "      <td>31.271576</td>\n",
       "      <td>None</td>\n",
       "      <td>650</td>\n",
       "      <td>POLYGON Z ((-752364.129 -1038276.044 352.404, ...</td>\n",
       "    </tr>\n",
       "    <tr>\n",
       "      <th>1</th>\n",
       "      <td>352.404</td>\n",
       "      <td>46.201840</td>\n",
       "      <td>50.956139</td>\n",
       "      <td>None</td>\n",
       "      <td>650</td>\n",
       "      <td>POLYGON Z ((-752362.440 -1038278.096 352.404, ...</td>\n",
       "    </tr>\n",
       "    <tr>\n",
       "      <th>2</th>\n",
       "      <td>352.404</td>\n",
       "      <td>53.635510</td>\n",
       "      <td>60.617815</td>\n",
       "      <td>None</td>\n",
       "      <td>650</td>\n",
       "      <td>POLYGON Z ((-752344.137 -1038269.891 352.404, ...</td>\n",
       "    </tr>\n",
       "  </tbody>\n",
       "</table>\n",
       "</div>"
      ],
      "text/plain": [
       "   Elevation  Shape_Leng  Shape_Area AKTUALIZAC  ID_MOST  \\\n",
       "0    352.404   30.274879   31.271576       None      650   \n",
       "1    352.404   46.201840   50.956139       None      650   \n",
       "2    352.404   53.635510   60.617815       None      650   \n",
       "\n",
       "                                            geometry  \n",
       "0  POLYGON Z ((-752364.129 -1038276.044 352.404, ...  \n",
       "1  POLYGON Z ((-752362.440 -1038278.096 352.404, ...  \n",
       "2  POLYGON Z ((-752344.137 -1038269.891 352.404, ...  "
      ]
     },
     "execution_count": 3,
     "metadata": {},
     "output_type": "execute_result"
    }
   ],
   "source": [
    "df_geo.head(3)"
   ]
  },
  {
   "cell_type": "code",
   "execution_count": 4,
   "metadata": {},
   "outputs": [
    {
     "name": "stdout",
     "output_type": "stream",
     "text": [
      "<class 'geopandas.geodataframe.GeoDataFrame'>\n",
      "RangeIndex: 80356 entries, 0 to 80355\n",
      "Data columns (total 6 columns):\n",
      " #   Column      Non-Null Count  Dtype   \n",
      "---  ------      --------------  -----   \n",
      " 0   Elevation   80356 non-null  float64 \n",
      " 1   Shape_Leng  80356 non-null  float64 \n",
      " 2   Shape_Area  80356 non-null  float64 \n",
      " 3   AKTUALIZAC  330 non-null    object  \n",
      " 4   ID_MOST     80356 non-null  int64   \n",
      " 5   geometry    80356 non-null  geometry\n",
      "dtypes: float64(3), geometry(1), int64(1), object(1)\n",
      "memory usage: 3.7+ MB\n"
     ]
    }
   ],
   "source": [
    "df_geo.info()"
   ]
  },
  {
   "cell_type": "code",
   "execution_count": 5,
   "metadata": {},
   "outputs": [
    {
     "name": "stdout",
     "output_type": "stream",
     "text": [
      "Unique bridge count: 672\n"
     ]
    }
   ],
   "source": [
    "print(\"Unique bridge count:\",len(df_geo.ID_MOST.unique()))"
   ]
  },
  {
   "cell_type": "markdown",
   "metadata": {},
   "source": [
    "### Joining geometries by bridge ID"
   ]
  },
  {
   "cell_type": "code",
   "execution_count": 6,
   "metadata": {},
   "outputs": [],
   "source": [
    "\"\"\"\n",
    "Valid with multipylygon.buffer(0) but dissolve(by='') is better\n",
    "\n",
    "\n",
    "from shapely.geometry import MultiPolygon, Polygon\n",
    "\n",
    "# groupby ID\n",
    "mosty_geo = df_geo.groupby('ID_MOST')\n",
    "\n",
    "#extract only bridge geometry and ID\n",
    "combined_geo = []\n",
    "for most_id, most in mosty_geo:\n",
    "    # combine geometry to multiplygon\n",
    "    most_gdf = gpd.GeoDataFrame()\n",
    "    most_gdf['geometry'] = [MultiPolygon(most.geometry.values).buffer(0)]\n",
    "    most_gdf['ID_MOST'] = [most_id]\n",
    "    if most_id == 417:\n",
    "        most_gdf.plot(figsize=(20,20), cmap='coolwarm')\n",
    "        print(most.geom_type.value_counts())\n",
    "        print(most_gdf.is_valid)\n",
    "\n",
    "    combined_geo.append(most_gdf)\n",
    "\"\"\";"
   ]
  },
  {
   "cell_type": "code",
   "execution_count": 7,
   "metadata": {},
   "outputs": [
    {
     "name": "stdout",
     "output_type": "stream",
     "text": [
      "                                                  geometry\n",
      "ID_MOST                                                   \n",
      "1        POLYGON Z ((-748294.562 -1057917.283 341.702, ...\n",
      "2        POLYGON Z ((-746393.872 -1056110.846 195.627, ...\n"
     ]
    },
    {
     "data": {
      "text/plain": [
       "<AxesSubplot:>"
      ]
     },
     "execution_count": 7,
     "metadata": {},
     "output_type": "execute_result"
    },
    {
     "data": {
      "image/png": "[encoded data removed]",
      "text/plain": [
       "<Figure size 432x288 with 1 Axes>"
      ]
     },
     "metadata": {
      "needs_background": "light"
     },
     "output_type": "display_data"
    }
   ],
   "source": [
    "#extract only bridge geometry and ID\n",
    "dissolved = df_geo[[\"ID_MOST\",\"geometry\"]].dissolve(by='ID_MOST')\n",
    "print(dissolved.head(2))\n",
    "dissolved.plot()\n",
    "\n",
    "#m = gpd.GeoDataFrame(dissolved.loc[[417,422],:])\n",
    "#m.plot(figsize=(20,20))\n",
    "#m.is_valid"
   ]
  },
  {
   "cell_type": "code",
   "execution_count": 8,
   "metadata": {},
   "outputs": [],
   "source": [
    "#df_geo = pd.concat(combined_geo)\n",
    "#df_geo.reset_index(drop=True,inplace=True)\n",
    "#df_geo = df_geo.set_crs(crs)\n",
    "\n",
    "df_geo = dissolved.reset_index()\n",
    "df_geo.head(10)\n",
    "df_geo.to_file(\"../../data/mosty_shp/mosty_unique.shp\", driver=\"ESRI Shapefile\", encoding=\"utf-8\")"
   ]
  },
  {
   "cell_type": "code",
   "execution_count": 9,
   "metadata": {},
   "outputs": [
    {
     "name": "stdout",
     "output_type": "stream",
     "text": [
      "<class 'geopandas.geodataframe.GeoDataFrame'>\n",
      "RangeIndex: 672 entries, 0 to 671\n",
      "Data columns (total 2 columns):\n",
      " #   Column    Non-Null Count  Dtype   \n",
      "---  ------    --------------  -----   \n",
      " 0   ID_MOST   672 non-null    int64   \n",
      " 1   geometry  672 non-null    geometry\n",
      "dtypes: geometry(1), int64(1)\n",
      "memory usage: 10.6 KB\n"
     ]
    }
   ],
   "source": [
    "df_geo.info()"
   ]
  },
  {
   "cell_type": "markdown",
   "metadata": {},
   "source": [
    "## Prepare metadata for linking - only magistrat bridges for now"
   ]
  },
  {
   "cell_type": "code",
   "execution_count": 10,
   "metadata": {},
   "outputs": [],
   "source": [
    "df_meta = gpd.read_file('../../data/mosty_shp/mosty_magistrat.shp')\n",
    "df_meta = df_meta.set_crs(crs)"
   ]
  },
  {
   "cell_type": "code",
   "execution_count": 11,
   "metadata": {},
   "outputs": [
    {
     "data": {
      "text/html": [
       "<div>\n",
       "<style scoped>\n",
       "    .dataframe tbody tr th:only-of-type {\n",
       "        vertical-align: middle;\n",
       "    }\n",
       "\n",
       "    .dataframe tbody tr th {\n",
       "        vertical-align: top;\n",
       "    }\n",
       "\n",
       "    .dataframe thead th {\n",
       "        text-align: right;\n",
       "    }\n",
       "</style>\n",
       "<table border=\"1\" class=\"dataframe\">\n",
       "  <thead>\n",
       "    <tr style=\"text-align: right;\">\n",
       "      <th></th>\n",
       "      <th>Id</th>\n",
       "      <th>Jmeno</th>\n",
       "      <th>MistniNaze</th>\n",
       "      <th>ProhlidkaP</th>\n",
       "      <th>PosledniPr</th>\n",
       "      <th>Oznaceni</th>\n",
       "      <th>Stav</th>\n",
       "      <th>PopisStavu</th>\n",
       "      <th>SpravaOrga</th>\n",
       "      <th>SpravaProv</th>\n",
       "      <th>SpravaStre</th>\n",
       "      <th>GPS_Lat</th>\n",
       "      <th>GPS_Lng</th>\n",
       "      <th>geometry</th>\n",
       "    </tr>\n",
       "  </thead>\n",
       "  <tbody>\n",
       "    <tr>\n",
       "      <th>0</th>\n",
       "      <td>178b797b-a65e-493f-8be3-1b853d5f6d9b</td>\n",
       "      <td>Lávka na žel. most - jih</td>\n",
       "      <td>None</td>\n",
       "      <td>11.01.2022 Hlavní prohlídka</td>\n",
       "      <td>2022-01-11</td>\n",
       "      <td>V-025</td>\n",
       "      <td>3</td>\n",
       "      <td>III - Dobrý</td>\n",
       "      <td>Magistrát hlavního města Prahy</td>\n",
       "      <td>Praha 2</td>\n",
       "      <td>TSK PRAHA</td>\n",
       "      <td>50,067</td>\n",
       "      <td>14,414</td>\n",
       "      <td>POINT (-743634.378 -1045196.960)</td>\n",
       "    </tr>\n",
       "    <tr>\n",
       "      <th>1</th>\n",
       "      <td>e0e4a06d-f98c-4ec6-8849-57d513adb27d</td>\n",
       "      <td>Palackého</td>\n",
       "      <td>None</td>\n",
       "      <td>14.01.2022 Hlavní prohlídka</td>\n",
       "      <td>2022-01-14</td>\n",
       "      <td>V-024</td>\n",
       "      <td>6</td>\n",
       "      <td>VI - Velmi špatný</td>\n",
       "      <td>Magistrát hlavního města Prahy</td>\n",
       "      <td>Praha 2</td>\n",
       "      <td>TSK PRAHA</td>\n",
       "      <td>50,073</td>\n",
       "      <td>14,412</td>\n",
       "      <td>POINT (-743685.163 -1044516.347)</td>\n",
       "    </tr>\n",
       "  </tbody>\n",
       "</table>\n",
       "</div>"
      ],
      "text/plain": [
       "                                     Id                     Jmeno MistniNaze  \\\n",
       "0  178b797b-a65e-493f-8be3-1b853d5f6d9b  Lávka na žel. most - jih       None   \n",
       "1  e0e4a06d-f98c-4ec6-8849-57d513adb27d                 Palackého       None   \n",
       "\n",
       "                    ProhlidkaP  PosledniPr Oznaceni  Stav         PopisStavu  \\\n",
       "0  11.01.2022 Hlavní prohlídka  2022-01-11    V-025     3        III - Dobrý   \n",
       "1  14.01.2022 Hlavní prohlídka  2022-01-14    V-024     6  VI - Velmi špatný   \n",
       "\n",
       "                       SpravaOrga SpravaProv SpravaStre GPS_Lat GPS_Lng  \\\n",
       "0  Magistrát hlavního města Prahy    Praha 2  TSK PRAHA  50,067  14,414   \n",
       "1  Magistrát hlavního města Prahy    Praha 2  TSK PRAHA  50,073  14,412   \n",
       "\n",
       "                           geometry  \n",
       "0  POINT (-743634.378 -1045196.960)  \n",
       "1  POINT (-743685.163 -1044516.347)  "
      ]
     },
     "execution_count": 11,
     "metadata": {},
     "output_type": "execute_result"
    }
   ],
   "source": [
    "df_meta.head(2)"
   ]
  },
  {
   "cell_type": "code",
   "execution_count": 12,
   "metadata": {},
   "outputs": [
    {
     "name": "stdout",
     "output_type": "stream",
     "text": [
      "<class 'geopandas.geodataframe.GeoDataFrame'>\n",
      "RangeIndex: 136 entries, 0 to 135\n",
      "Data columns (total 14 columns):\n",
      " #   Column      Non-Null Count  Dtype   \n",
      "---  ------      --------------  -----   \n",
      " 0   Id          136 non-null    object  \n",
      " 1   Jmeno       136 non-null    object  \n",
      " 2   MistniNaze  9 non-null      object  \n",
      " 3   ProhlidkaP  135 non-null    object  \n",
      " 4   PosledniPr  135 non-null    object  \n",
      " 5   Oznaceni    136 non-null    object  \n",
      " 6   Stav        136 non-null    int64   \n",
      " 7   PopisStavu  135 non-null    object  \n",
      " 8   SpravaOrga  136 non-null    object  \n",
      " 9   SpravaProv  108 non-null    object  \n",
      " 10  SpravaStre  136 non-null    object  \n",
      " 11  GPS_Lat     136 non-null    object  \n",
      " 12  GPS_Lng     136 non-null    object  \n",
      " 13  geometry    136 non-null    geometry\n",
      "dtypes: geometry(1), int64(1), object(12)\n",
      "memory usage: 15.0+ KB\n"
     ]
    }
   ],
   "source": [
    "df_meta.info()"
   ]
  },
  {
   "cell_type": "markdown",
   "metadata": {},
   "source": [
    "## Execute spatial join on geometry and metadata geodataframes"
   ]
  },
  {
   "cell_type": "code",
   "execution_count": 13,
   "metadata": {},
   "outputs": [],
   "source": [
    "df_merged = gpd.sjoin_nearest(df_geo, df_meta, how='left', max_distance=90)"
   ]
  },
  {
   "cell_type": "code",
   "execution_count": 14,
   "metadata": {},
   "outputs": [],
   "source": [
    "df_merged.encoding = 'utf-8'"
   ]
  },
  {
   "cell_type": "code",
   "execution_count": 15,
   "metadata": {},
   "outputs": [
    {
     "data": {
      "text/html": [
       "<div>\n",
       "<style scoped>\n",
       "    .dataframe tbody tr th:only-of-type {\n",
       "        vertical-align: middle;\n",
       "    }\n",
       "\n",
       "    .dataframe tbody tr th {\n",
       "        vertical-align: top;\n",
       "    }\n",
       "\n",
       "    .dataframe thead th {\n",
       "        text-align: right;\n",
       "    }\n",
       "</style>\n",
       "<table border=\"1\" class=\"dataframe\">\n",
       "  <thead>\n",
       "    <tr style=\"text-align: right;\">\n",
       "      <th></th>\n",
       "      <th>ID_MOST</th>\n",
       "      <th>index_right</th>\n",
       "      <th>Stav</th>\n",
       "    </tr>\n",
       "  </thead>\n",
       "  <tbody>\n",
       "    <tr>\n",
       "      <th>count</th>\n",
       "      <td>688.000000</td>\n",
       "      <td>124.000000</td>\n",
       "      <td>124.000000</td>\n",
       "    </tr>\n",
       "    <tr>\n",
       "      <th>mean</th>\n",
       "      <td>338.760174</td>\n",
       "      <td>66.346774</td>\n",
       "      <td>4.774194</td>\n",
       "    </tr>\n",
       "    <tr>\n",
       "      <th>std</th>\n",
       "      <td>196.538219</td>\n",
       "      <td>37.232088</td>\n",
       "      <td>0.872700</td>\n",
       "    </tr>\n",
       "    <tr>\n",
       "      <th>min</th>\n",
       "      <td>1.000000</td>\n",
       "      <td>0.000000</td>\n",
       "      <td>0.000000</td>\n",
       "    </tr>\n",
       "    <tr>\n",
       "      <th>25%</th>\n",
       "      <td>166.750000</td>\n",
       "      <td>37.500000</td>\n",
       "      <td>5.000000</td>\n",
       "    </tr>\n",
       "    <tr>\n",
       "      <th>50%</th>\n",
       "      <td>335.500000</td>\n",
       "      <td>67.500000</td>\n",
       "      <td>5.000000</td>\n",
       "    </tr>\n",
       "    <tr>\n",
       "      <th>75%</th>\n",
       "      <td>509.250000</td>\n",
       "      <td>95.500000</td>\n",
       "      <td>5.000000</td>\n",
       "    </tr>\n",
       "    <tr>\n",
       "      <th>max</th>\n",
       "      <td>682.000000</td>\n",
       "      <td>135.000000</td>\n",
       "      <td>6.000000</td>\n",
       "    </tr>\n",
       "  </tbody>\n",
       "</table>\n",
       "</div>"
      ],
      "text/plain": [
       "          ID_MOST  index_right        Stav\n",
       "count  688.000000   124.000000  124.000000\n",
       "mean   338.760174    66.346774    4.774194\n",
       "std    196.538219    37.232088    0.872700\n",
       "min      1.000000     0.000000    0.000000\n",
       "25%    166.750000    37.500000    5.000000\n",
       "50%    335.500000    67.500000    5.000000\n",
       "75%    509.250000    95.500000    5.000000\n",
       "max    682.000000   135.000000    6.000000"
      ]
     },
     "execution_count": 15,
     "metadata": {},
     "output_type": "execute_result"
    }
   ],
   "source": [
    "df_merged.describe()"
   ]
  },
  {
   "cell_type": "code",
   "execution_count": 16,
   "metadata": {},
   "outputs": [],
   "source": [
    "df_selection = df_merged[[\"geometry\",\"ID_MOST\",\"Jmeno\",\"ProhlidkaP\",\"Oznaceni\",\"Stav\",\"PopisStavu\",\"SpravaOrga\",\"SpravaProv\",\"SpravaStre\"]]"
   ]
  },
  {
   "cell_type": "markdown",
   "metadata": {},
   "source": [
    "### Deal with merge duplicities"
   ]
  },
  {
   "cell_type": "code",
   "execution_count": 17,
   "metadata": {},
   "outputs": [
    {
     "data": {
      "text/html": [
       "<div>\n",
       "<style scoped>\n",
       "    .dataframe tbody tr th:only-of-type {\n",
       "        vertical-align: middle;\n",
       "    }\n",
       "\n",
       "    .dataframe tbody tr th {\n",
       "        vertical-align: top;\n",
       "    }\n",
       "\n",
       "    .dataframe thead th {\n",
       "        text-align: right;\n",
       "    }\n",
       "</style>\n",
       "<table border=\"1\" class=\"dataframe\">\n",
       "  <thead>\n",
       "    <tr style=\"text-align: right;\">\n",
       "      <th></th>\n",
       "      <th>geometry</th>\n",
       "      <th>ID_MOST</th>\n",
       "      <th>Jmeno</th>\n",
       "      <th>ProhlidkaP</th>\n",
       "      <th>Oznaceni</th>\n",
       "      <th>Stav</th>\n",
       "      <th>PopisStavu</th>\n",
       "      <th>SpravaOrga</th>\n",
       "      <th>SpravaProv</th>\n",
       "      <th>SpravaStre</th>\n",
       "    </tr>\n",
       "  </thead>\n",
       "  <tbody>\n",
       "    <tr>\n",
       "      <th>0</th>\n",
       "      <td>POLYGON Z ((-748294.562 -1057917.283 341.702, ...</td>\n",
       "      <td>1</td>\n",
       "      <td>Baně</td>\n",
       "      <td>10.11.2020 Mimořádná prohlídka</td>\n",
       "      <td>X-053</td>\n",
       "      <td>5.0</td>\n",
       "      <td>V - Špatný</td>\n",
       "      <td>Magistrát hlavního města Prahy</td>\n",
       "      <td>Praha 4</td>\n",
       "      <td>TSK PRAHA</td>\n",
       "    </tr>\n",
       "    <tr>\n",
       "      <th>1</th>\n",
       "      <td>POLYGON Z ((-746393.872 -1056110.846 195.627, ...</td>\n",
       "      <td>2</td>\n",
       "      <td>NaN</td>\n",
       "      <td>NaN</td>\n",
       "      <td>NaN</td>\n",
       "      <td>NaN</td>\n",
       "      <td>NaN</td>\n",
       "      <td>NaN</td>\n",
       "      <td>NaN</td>\n",
       "      <td>NaN</td>\n",
       "    </tr>\n",
       "  </tbody>\n",
       "</table>\n",
       "</div>"
      ],
      "text/plain": [
       "                                            geometry  ID_MOST Jmeno  \\\n",
       "0  POLYGON Z ((-748294.562 -1057917.283 341.702, ...        1  Baně   \n",
       "1  POLYGON Z ((-746393.872 -1056110.846 195.627, ...        2   NaN   \n",
       "\n",
       "                       ProhlidkaP Oznaceni  Stav  PopisStavu  \\\n",
       "0  10.11.2020 Mimořádná prohlídka    X-053   5.0  V - Špatný   \n",
       "1                             NaN      NaN   NaN         NaN   \n",
       "\n",
       "                       SpravaOrga SpravaProv SpravaStre  \n",
       "0  Magistrát hlavního města Prahy    Praha 4  TSK PRAHA  \n",
       "1                             NaN        NaN        NaN  "
      ]
     },
     "execution_count": 17,
     "metadata": {},
     "output_type": "execute_result"
    }
   ],
   "source": [
    "df_selection.head(2)"
   ]
  },
  {
   "cell_type": "code",
   "execution_count": 18,
   "metadata": {},
   "outputs": [
    {
     "data": {
      "text/plain": [
       "192    2\n",
       "334    2\n",
       "Name: ID_MOST, dtype: int64"
      ]
     },
     "execution_count": 18,
     "metadata": {},
     "output_type": "execute_result"
    }
   ],
   "source": [
    "df_selection.ID_MOST.value_counts()[:2]"
   ]
  },
  {
   "cell_type": "code",
   "execution_count": 19,
   "metadata": {},
   "outputs": [
    {
     "data": {
      "text/html": [
       "<div>\n",
       "<style scoped>\n",
       "    .dataframe tbody tr th:only-of-type {\n",
       "        vertical-align: middle;\n",
       "    }\n",
       "\n",
       "    .dataframe tbody tr th {\n",
       "        vertical-align: top;\n",
       "    }\n",
       "\n",
       "    .dataframe thead th {\n",
       "        text-align: right;\n",
       "    }\n",
       "</style>\n",
       "<table border=\"1\" class=\"dataframe\">\n",
       "  <thead>\n",
       "    <tr style=\"text-align: right;\">\n",
       "      <th></th>\n",
       "      <th>geometry</th>\n",
       "      <th>ID_MOST</th>\n",
       "      <th>Jmeno</th>\n",
       "      <th>ProhlidkaP</th>\n",
       "      <th>Oznaceni</th>\n",
       "      <th>Stav</th>\n",
       "      <th>PopisStavu</th>\n",
       "      <th>SpravaOrga</th>\n",
       "      <th>SpravaProv</th>\n",
       "      <th>SpravaStre</th>\n",
       "    </tr>\n",
       "  </thead>\n",
       "  <tbody>\n",
       "    <tr>\n",
       "      <th>51</th>\n",
       "      <td>POLYGON Z ((-745877.461 -1053041.594 199.850, ...</td>\n",
       "      <td>53</td>\n",
       "      <td>Most přes Berounku u Lahovic</td>\n",
       "      <td>23.11.2016 Hlavní prohlídka</td>\n",
       "      <td>V-071..1</td>\n",
       "      <td>3.0</td>\n",
       "      <td>III - Dobrý</td>\n",
       "      <td>Magistrát hlavního města Prahy</td>\n",
       "      <td>Praha 5</td>\n",
       "      <td>TSK PRAHA</td>\n",
       "    </tr>\n",
       "    <tr>\n",
       "      <th>51</th>\n",
       "      <td>POLYGON Z ((-745877.461 -1053041.594 199.850, ...</td>\n",
       "      <td>53</td>\n",
       "      <td>Most přes Berounku u Lahovic</td>\n",
       "      <td>23.11.2016 Hlavní prohlídka</td>\n",
       "      <td>V-071..2</td>\n",
       "      <td>3.0</td>\n",
       "      <td>III - Dobrý</td>\n",
       "      <td>Magistrát hlavního města Prahy</td>\n",
       "      <td>Praha 5</td>\n",
       "      <td>TSK PRAHA</td>\n",
       "    </tr>\n",
       "  </tbody>\n",
       "</table>\n",
       "</div>"
      ],
      "text/plain": [
       "                                             geometry  ID_MOST  \\\n",
       "51  POLYGON Z ((-745877.461 -1053041.594 199.850, ...       53   \n",
       "51  POLYGON Z ((-745877.461 -1053041.594 199.850, ...       53   \n",
       "\n",
       "                           Jmeno                   ProhlidkaP  Oznaceni  Stav  \\\n",
       "51  Most přes Berounku u Lahovic  23.11.2016 Hlavní prohlídka  V-071..1   3.0   \n",
       "51  Most přes Berounku u Lahovic  23.11.2016 Hlavní prohlídka  V-071..2   3.0   \n",
       "\n",
       "     PopisStavu                      SpravaOrga SpravaProv SpravaStre  \n",
       "51  III - Dobrý  Magistrát hlavního města Prahy    Praha 5  TSK PRAHA  \n",
       "51  III - Dobrý  Magistrát hlavního města Prahy    Praha 5  TSK PRAHA  "
      ]
     },
     "execution_count": 19,
     "metadata": {},
     "output_type": "execute_result"
    }
   ],
   "source": [
    "df_selection[df_selection.ID_MOST == 53]"
   ]
  },
  {
   "cell_type": "code",
   "execution_count": 20,
   "metadata": {},
   "outputs": [],
   "source": [
    "df_unique = df_selection.drop_duplicates(subset=[\"ID_MOST\"], keep='first')"
   ]
  },
  {
   "cell_type": "markdown",
   "metadata": {},
   "source": [
    "### Rename columns and export to SHP"
   ]
  },
  {
   "cell_type": "code",
   "execution_count": 21,
   "metadata": {},
   "outputs": [],
   "source": [
    "column_names = {\n",
    "    \"ID_MOST\": \"ID\",\n",
    "    \"Jmeno\": \"NAME\",\n",
    "    \"ProhlidkaP\": \"LAST_UPDATE\",\n",
    "    \"Oznaceni\": \"CODE\",\n",
    "    \"Stav\": \"STATUS\",\n",
    "    \"PopisStavu\": \"S_DESC\",\n",
    "    \"SpravaOrga\": \"ADMIN\",\n",
    "    \"SpravaProv\": \"MUNICIP\",\n",
    "    \"SpravaStre\": \"AUTHORITY\"\n",
    "}"
   ]
  },
  {
   "cell_type": "code",
   "execution_count": 22,
   "metadata": {},
   "outputs": [
    {
     "name": "stderr",
     "output_type": "stream",
     "text": [
      "/tmp/ipykernel_16911/4191247272.py:1: SettingWithCopyWarning: \n",
      "A value is trying to be set on a copy of a slice from a DataFrame\n",
      "\n",
      "See the caveats in the documentation: https://pandas.pydata.org/pandas-docs/stable/user_guide/indexing.html#returning-a-view-versus-a-copy\n",
      "  df_unique.rename(columns=column_names, inplace=True)\n"
     ]
    }
   ],
   "source": [
    "df_unique.rename(columns=column_names, inplace=True)"
   ]
  },
  {
   "cell_type": "code",
   "execution_count": 23,
   "metadata": {},
   "outputs": [
    {
     "name": "stderr",
     "output_type": "stream",
     "text": [
      "/tmp/ipykernel_16911/107891774.py:1: UserWarning: Column names longer than 10 characters will be truncated when saved to ESRI Shapefile.\n",
      "  df_unique.to_file(\"../../data/mosty_shp/mosty_meta.shp\", driver=\"ESRI Shapefile\", encoding=\"utf-8\")\n"
     ]
    }
   ],
   "source": [
    "df_unique.to_file(\"../../data/mosty_shp/mosty_meta.shp\", driver=\"ESRI Shapefile\", encoding=\"utf-8\")"
   ]
  }
 ],
 "metadata": {
  "kernelspec": {
   "display_name": "Python 3.9.5 ('venv': venv)",
   "language": "python",
   "name": "python3"
  },
  "language_info": {
   "codemirror_mode": {
    "name": "ipython",
    "version": 3
   },
   "file_extension": ".py",
   "mimetype": "text/x-python",
   "name": "python",
   "nbconvert_exporter": "python",
   "pygments_lexer": "ipython3",
   "version": "3.9.5"
  },
  "orig_nbformat": 4,
  "vscode": {
   "interpreter": {
    "hash": "a3278395a2ffbc9b86dc060bf8f6c423a4f94874081dc22e0d79235f41fc307c"
   }
  }
 },
 "nbformat": 4,
 "nbformat_minor": 2
}
