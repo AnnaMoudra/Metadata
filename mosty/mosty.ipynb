{
 "cells": [
  {
   "cell_type": "code",
   "execution_count": 27,
   "metadata": {},
   "outputs": [],
   "source": [
    "import pandas as pd\n",
    "import geopandas as gpd\n",
    "from shapely.geometry import Point"
   ]
  },
  {
   "cell_type": "code",
   "execution_count": 28,
   "metadata": {},
   "outputs": [
    {
     "data": {
      "text/html": [
       "<div>\n",
       "<style scoped>\n",
       "    .dataframe tbody tr th:only-of-type {\n",
       "        vertical-align: middle;\n",
       "    }\n",
       "\n",
       "    .dataframe tbody tr th {\n",
       "        vertical-align: top;\n",
       "    }\n",
       "\n",
       "    .dataframe thead th {\n",
       "        text-align: right;\n",
       "    }\n",
       "</style>\n",
       "<table border=\"1\" class=\"dataframe\">\n",
       "  <thead>\n",
       "    <tr style=\"text-align: right;\">\n",
       "      <th></th>\n",
       "      <th>Unnamed: 0</th>\n",
       "      <th>Id</th>\n",
       "      <th>GPS_Lat</th>\n",
       "      <th>GPS_Lng</th>\n",
       "      <th>Jmeno</th>\n",
       "      <th>MistniNazev</th>\n",
       "      <th>Oznaceni</th>\n",
       "      <th>SpravaOrganizace</th>\n",
       "      <th>SpravaStredisko</th>\n",
       "      <th>SpravaProvozniUsek</th>\n",
       "      <th>PopisStavu</th>\n",
       "      <th>Stav</th>\n",
       "      <th>ProhlidkaPopis</th>\n",
       "      <th>PosledniProhlidka</th>\n",
       "      <th>geometry</th>\n",
       "    </tr>\n",
       "  </thead>\n",
       "  <tbody>\n",
       "    <tr>\n",
       "      <th>0</th>\n",
       "      <td>0</td>\n",
       "      <td>00002efa-b8e2-4a7f-80a2-4cf6191e1e41</td>\n",
       "      <td>18.247085</td>\n",
       "      <td>49.656150</td>\n",
       "      <td>Most přes potok Košice za obcí Rychaltice</td>\n",
       "      <td>R48 Rychaltice - FM / SO212</td>\n",
       "      <td>648-002</td>\n",
       "      <td>kraj Moravskoslezský</td>\n",
       "      <td>Správa silnic Moravskoslezského kraje</td>\n",
       "      <td>středisko Frýdek-Místek</td>\n",
       "      <td>I - Bezvadný</td>\n",
       "      <td>1.0</td>\n",
       "      <td>02.06.2016 Hlavní prohlídka</td>\n",
       "      <td>02.06.2016</td>\n",
       "      <td>POINT (18.247085175249545 49.65615029414302)</td>\n",
       "    </tr>\n",
       "    <tr>\n",
       "      <th>1</th>\n",
       "      <td>0</td>\n",
       "      <td>00011b45-3367-4eeb-a0d0-08ca7b3e0fa8</td>\n",
       "      <td>16.532983</td>\n",
       "      <td>48.975576</td>\n",
       "      <td>Most přes dálnici D52 za Pohořelicemi</td>\n",
       "      <td>NaN</td>\n",
       "      <td>41622-1</td>\n",
       "      <td>kraj Jihomoravský</td>\n",
       "      <td>SÚS Jihomoravského kraje</td>\n",
       "      <td>oblast Jih</td>\n",
       "      <td>III - Dobrý</td>\n",
       "      <td>3.0</td>\n",
       "      <td>11.06.2019 Hlavní prohlídka</td>\n",
       "      <td>11.06.2019</td>\n",
       "      <td>POINT (16.532982569098344 48.9755763218379)</td>\n",
       "    </tr>\n",
       "  </tbody>\n",
       "</table>\n",
       "</div>"
      ],
      "text/plain": [
       "   Unnamed: 0                                    Id    GPS_Lat    GPS_Lng  \\\n",
       "0           0  00002efa-b8e2-4a7f-80a2-4cf6191e1e41  18.247085  49.656150   \n",
       "1           0  00011b45-3367-4eeb-a0d0-08ca7b3e0fa8  16.532983  48.975576   \n",
       "\n",
       "                                       Jmeno                  MistniNazev  \\\n",
       "0  Most přes potok Košice za obcí Rychaltice  R48 Rychaltice - FM / SO212   \n",
       "1      Most přes dálnici D52 za Pohořelicemi                          NaN   \n",
       "\n",
       "  Oznaceni      SpravaOrganizace                        SpravaStredisko  \\\n",
       "0  648-002  kraj Moravskoslezský  Správa silnic Moravskoslezského kraje   \n",
       "1  41622-1     kraj Jihomoravský               SÚS Jihomoravského kraje   \n",
       "\n",
       "        SpravaProvozniUsek    PopisStavu  Stav               ProhlidkaPopis  \\\n",
       "0  středisko Frýdek-Místek  I - Bezvadný   1.0  02.06.2016 Hlavní prohlídka   \n",
       "1               oblast Jih   III - Dobrý   3.0  11.06.2019 Hlavní prohlídka   \n",
       "\n",
       "  PosledniProhlidka                                      geometry  \n",
       "0        02.06.2016  POINT (18.247085175249545 49.65615029414302)  \n",
       "1        11.06.2019   POINT (16.532982569098344 48.9755763218379)  "
      ]
     },
     "execution_count": 28,
     "metadata": {},
     "output_type": "execute_result"
    }
   ],
   "source": [
    "#df = pd.read_csv(\"../data/mosty_shp/mosty_stav.csv\")\n",
    "df = pd.read_csv(\"../data/mosty_stav_scraped_all.csv\")\n",
    "df.head(2)"
   ]
  },
  {
   "cell_type": "code",
   "execution_count": 21,
   "metadata": {},
   "outputs": [],
   "source": [
    "#df[\"geometry\"] = df.apply(lambda row: Point([float((row.GPS_Lng).replace(',','.')), float(row.GPS_Lat.replace(',','.'))]), axis=1)"
   ]
  },
  {
   "cell_type": "code",
   "execution_count": 36,
   "metadata": {},
   "outputs": [
    {
     "name": "stderr",
     "output_type": "stream",
     "text": [
      "C:\\Users\\Anna\\AppData\\Local\\Packages\\PythonSoftwareFoundation.Python.3.9_qbz5n2kfra8p0\\LocalCache\\local-packages\\Python39\\site-packages\\pandas\\core\\dtypes\\cast.py:122: ShapelyDeprecationWarning: The array interface is deprecated and will no longer work in Shapely 2.0. Convert the '.coords' to a numpy array instead.\n",
      "  arr = construct_1d_object_array_from_listlike(values)\n"
     ]
    }
   ],
   "source": [
    "df.head(10)\n",
    "\n",
    "df[\"geometry\"] = df.apply(lambda row: Point(row.GPS_Lat, row.GPS_Lng), axis=1)"
   ]
  },
  {
   "cell_type": "code",
   "execution_count": 38,
   "metadata": {},
   "outputs": [
    {
     "data": {
      "text/html": [
       "<div>\n",
       "<style scoped>\n",
       "    .dataframe tbody tr th:only-of-type {\n",
       "        vertical-align: middle;\n",
       "    }\n",
       "\n",
       "    .dataframe tbody tr th {\n",
       "        vertical-align: top;\n",
       "    }\n",
       "\n",
       "    .dataframe thead th {\n",
       "        text-align: right;\n",
       "    }\n",
       "</style>\n",
       "<table border=\"1\" class=\"dataframe\">\n",
       "  <thead>\n",
       "    <tr style=\"text-align: right;\">\n",
       "      <th></th>\n",
       "      <th>Unnamed: 0</th>\n",
       "      <th>Id</th>\n",
       "      <th>GPS_Lat</th>\n",
       "      <th>GPS_Lng</th>\n",
       "      <th>Jmeno</th>\n",
       "      <th>MistniNazev</th>\n",
       "      <th>Oznaceni</th>\n",
       "      <th>SpravaOrganizace</th>\n",
       "      <th>SpravaStredisko</th>\n",
       "      <th>SpravaProvozniUsek</th>\n",
       "      <th>PopisStavu</th>\n",
       "      <th>Stav</th>\n",
       "      <th>ProhlidkaPopis</th>\n",
       "      <th>PosledniProhlidka</th>\n",
       "      <th>geometry</th>\n",
       "    </tr>\n",
       "  </thead>\n",
       "  <tbody>\n",
       "    <tr>\n",
       "      <th>0</th>\n",
       "      <td>0</td>\n",
       "      <td>00002efa-b8e2-4a7f-80a2-4cf6191e1e41</td>\n",
       "      <td>18.247085</td>\n",
       "      <td>49.656150</td>\n",
       "      <td>Most přes potok Košice za obcí Rychaltice</td>\n",
       "      <td>R48 Rychaltice - FM / SO212</td>\n",
       "      <td>648-002</td>\n",
       "      <td>kraj Moravskoslezský</td>\n",
       "      <td>Správa silnic Moravskoslezského kraje</td>\n",
       "      <td>středisko Frýdek-Místek</td>\n",
       "      <td>I - Bezvadný</td>\n",
       "      <td>1.0</td>\n",
       "      <td>02.06.2016 Hlavní prohlídka</td>\n",
       "      <td>02.06.2016</td>\n",
       "      <td>POINT (-474861.999 -1121223.999)</td>\n",
       "    </tr>\n",
       "    <tr>\n",
       "      <th>1</th>\n",
       "      <td>0</td>\n",
       "      <td>00011b45-3367-4eeb-a0d0-08ca7b3e0fa8</td>\n",
       "      <td>16.532983</td>\n",
       "      <td>48.975576</td>\n",
       "      <td>Most přes dálnici D52 za Pohořelicemi</td>\n",
       "      <td>NaN</td>\n",
       "      <td>41622-1</td>\n",
       "      <td>kraj Jihomoravský</td>\n",
       "      <td>SÚS Jihomoravského kraje</td>\n",
       "      <td>oblast Jih</td>\n",
       "      <td>III - Dobrý</td>\n",
       "      <td>3.0</td>\n",
       "      <td>11.06.2019 Hlavní prohlídka</td>\n",
       "      <td>11.06.2019</td>\n",
       "      <td>POINT (-606244.999 -1184430.999)</td>\n",
       "    </tr>\n",
       "    <tr>\n",
       "      <th>2</th>\n",
       "      <td>0</td>\n",
       "      <td>0004651c-2d55-4055-b944-bf2dffcf6c51</td>\n",
       "      <td>16.227575</td>\n",
       "      <td>49.995441</td>\n",
       "      <td>Choceň-nádraží ČD</td>\n",
       "      <td>NaN</td>\n",
       "      <td>317-006</td>\n",
       "      <td>kraj Pardubický</td>\n",
       "      <td>SÚS Pardubického kraje</td>\n",
       "      <td>středisko Ústí nad Orlicí</td>\n",
       "      <td>VI - Velmi špatný</td>\n",
       "      <td>6.0</td>\n",
       "      <td>02.06.2008 Aktualizace dat</td>\n",
       "      <td>02.06.2008</td>\n",
       "      <td>POINT (-615705.999 -1069261.999)</td>\n",
       "    </tr>\n",
       "    <tr>\n",
       "      <th>3</th>\n",
       "      <td>0</td>\n",
       "      <td>000498cd-b048-4bee-b65c-acd3dd472777</td>\n",
       "      <td>13.333934</td>\n",
       "      <td>49.678276</td>\n",
       "      <td>Most na D5 v km 83.057 přes přeložku Šlovickéh...</td>\n",
       "      <td>NaN</td>\n",
       "      <td>D5-088..3</td>\n",
       "      <td>ŘSD ČR</td>\n",
       "      <td>PÚ GŘ ŘSD - Správa dálnice Čechy</td>\n",
       "      <td>SSÚD 10 Ostrov u Stříbra</td>\n",
       "      <td>III - Dobrý</td>\n",
       "      <td>3.0</td>\n",
       "      <td>18.04.2018 Hlavní prohlídka</td>\n",
       "      <td>18.04.2018</td>\n",
       "      <td>POINT (-826670.000 -1076834.999)</td>\n",
       "    </tr>\n",
       "    <tr>\n",
       "      <th>4</th>\n",
       "      <td>0</td>\n",
       "      <td>0007b291-4828-4f69-81f3-e44e13752b9a</td>\n",
       "      <td>13.797392</td>\n",
       "      <td>50.363734</td>\n",
       "      <td>Most přes inundační území řeky Ohře u Loun</td>\n",
       "      <td>NaN</td>\n",
       "      <td>25013-3</td>\n",
       "      <td>kraj Ústecký</td>\n",
       "      <td>SÚS Ústeckého kraje Teplice</td>\n",
       "      <td>provoz Louny</td>\n",
       "      <td>VI - Velmi špatný</td>\n",
       "      <td>6.0</td>\n",
       "      <td>12.08.2020 Hlavní prohlídka</td>\n",
       "      <td>12.08.2020</td>\n",
       "      <td>POINT (-782567.000 -1006337.999)</td>\n",
       "    </tr>\n",
       "  </tbody>\n",
       "</table>\n",
       "</div>"
      ],
      "text/plain": [
       "   Unnamed: 0                                    Id    GPS_Lat    GPS_Lng  \\\n",
       "0           0  00002efa-b8e2-4a7f-80a2-4cf6191e1e41  18.247085  49.656150   \n",
       "1           0  00011b45-3367-4eeb-a0d0-08ca7b3e0fa8  16.532983  48.975576   \n",
       "2           0  0004651c-2d55-4055-b944-bf2dffcf6c51  16.227575  49.995441   \n",
       "3           0  000498cd-b048-4bee-b65c-acd3dd472777  13.333934  49.678276   \n",
       "4           0  0007b291-4828-4f69-81f3-e44e13752b9a  13.797392  50.363734   \n",
       "\n",
       "                                               Jmeno  \\\n",
       "0          Most přes potok Košice za obcí Rychaltice   \n",
       "1              Most přes dálnici D52 za Pohořelicemi   \n",
       "2                                  Choceň-nádraží ČD   \n",
       "3  Most na D5 v km 83.057 přes přeložku Šlovickéh...   \n",
       "4         Most přes inundační území řeky Ohře u Loun   \n",
       "\n",
       "                   MistniNazev   Oznaceni      SpravaOrganizace  \\\n",
       "0  R48 Rychaltice - FM / SO212    648-002  kraj Moravskoslezský   \n",
       "1                          NaN    41622-1     kraj Jihomoravský   \n",
       "2                          NaN    317-006       kraj Pardubický   \n",
       "3                          NaN  D5-088..3                ŘSD ČR   \n",
       "4                          NaN    25013-3          kraj Ústecký   \n",
       "\n",
       "                         SpravaStredisko         SpravaProvozniUsek  \\\n",
       "0  Správa silnic Moravskoslezského kraje    středisko Frýdek-Místek   \n",
       "1               SÚS Jihomoravského kraje                 oblast Jih   \n",
       "2                 SÚS Pardubického kraje  středisko Ústí nad Orlicí   \n",
       "3       PÚ GŘ ŘSD - Správa dálnice Čechy   SSÚD 10 Ostrov u Stříbra   \n",
       "4            SÚS Ústeckého kraje Teplice               provoz Louny   \n",
       "\n",
       "          PopisStavu  Stav               ProhlidkaPopis PosledniProhlidka  \\\n",
       "0       I - Bezvadný   1.0  02.06.2016 Hlavní prohlídka        02.06.2016   \n",
       "1        III - Dobrý   3.0  11.06.2019 Hlavní prohlídka        11.06.2019   \n",
       "2  VI - Velmi špatný   6.0   02.06.2008 Aktualizace dat        02.06.2008   \n",
       "3        III - Dobrý   3.0  18.04.2018 Hlavní prohlídka        18.04.2018   \n",
       "4  VI - Velmi špatný   6.0  12.08.2020 Hlavní prohlídka        12.08.2020   \n",
       "\n",
       "                           geometry  \n",
       "0  POINT (-474861.999 -1121223.999)  \n",
       "1  POINT (-606244.999 -1184430.999)  \n",
       "2  POINT (-615705.999 -1069261.999)  \n",
       "3  POINT (-826670.000 -1076834.999)  \n",
       "4  POINT (-782567.000 -1006337.999)  "
      ]
     },
     "execution_count": 38,
     "metadata": {},
     "output_type": "execute_result"
    }
   ],
   "source": [
    "gdf = gpd.GeoDataFrame(df.copy(), geometry=\"geometry\", crs=\"EPSG:4326\")\n",
    "gdf.loc[:, \"geometry\"] = gdf.geometry.to_crs(5514)\n",
    "gdf.head()"
   ]
  },
  {
   "cell_type": "code",
   "execution_count": 39,
   "metadata": {},
   "outputs": [
    {
     "name": "stderr",
     "output_type": "stream",
     "text": [
      "C:\\Users\\Anna\\AppData\\Local\\Temp\\ipykernel_19936\\2663277503.py:1: UserWarning: Column names longer than 10 characters will be truncated when saved to ESRI Shapefile.\n",
      "  gdf.to_file(\"../data/mosty_shp/mosty_CR_stav.shp\", driver=\"ESRI Shapefile\", encoding=\"utf-8\")\n"
     ]
    }
   ],
   "source": [
    "gdf.to_file(\"../data/mosty_shp/mosty_CR_stav.shp\", driver=\"ESRI Shapefile\", encoding=\"utf-8\")"
   ]
  },
  {
   "cell_type": "markdown",
   "metadata": {},
   "source": [
    "### Select only relevant metadata"
   ]
  },
  {
   "cell_type": "code",
   "execution_count": 7,
   "metadata": {},
   "outputs": [],
   "source": [
    "gdf_praha = gdf[gdf.SpravaOrganizace == \"Magistrát hlavního města Prahy\"]"
   ]
  },
  {
   "cell_type": "code",
   "execution_count": 8,
   "metadata": {},
   "outputs": [
    {
     "name": "stderr",
     "output_type": "stream",
     "text": [
      "C:\\Users\\Anna\\AppData\\Local\\Temp\\ipykernel_19924\\706504045.py:1: UserWarning: Column names longer than 10 characters will be truncated when saved to ESRI Shapefile.\n",
      "  gdf_praha.to_file(\"../data/mosty_shp/mosty_all.shp\", driver=\"ESRI Shapefile\", encoding=\"utf-8\")\n"
     ]
    }
   ],
   "source": [
    "gdf_praha.to_file(\"../data/mosty_shp/mosty_all.shp\", driver=\"ESRI Shapefile\", encoding=\"utf-8\")"
   ]
  },
  {
   "cell_type": "code",
   "execution_count": null,
   "metadata": {},
   "outputs": [],
   "source": []
  }
 ],
 "metadata": {
  "kernelspec": {
   "display_name": "Python 3.9.13 64-bit",
   "language": "python",
   "name": "python3"
  },
  "language_info": {
   "codemirror_mode": {
    "name": "ipython",
    "version": 3
   },
   "file_extension": ".py",
   "mimetype": "text/x-python",
   "name": "python",
   "nbconvert_exporter": "python",
   "pygments_lexer": "ipython3",
   "version": "3.9.13"
  },
  "orig_nbformat": 4,
  "vscode": {
   "interpreter": {
    "hash": "8e284ee3255a07ad8bf76694974743c4c81cb57e7c969474d752d949b11d721e"
   }
  }
 },
 "nbformat": 4,
 "nbformat_minor": 2
}
