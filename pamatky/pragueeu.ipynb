{
 "cells": [
  {
   "cell_type": "code",
   "execution_count": 2,
   "metadata": {},
   "outputs": [],
   "source": [
    "import pandas as pd\n",
    "import geopandas as gpd\n",
    "from shapely.geometry import Point\n",
    "import json"
   ]
  },
  {
   "cell_type": "code",
   "execution_count": 22,
   "metadata": {},
   "outputs": [],
   "source": [
    "# \n",
    "with open('../../data/pragueeu/pragueeu_objects_export.json') as f:\n",
    "    data = json.load(f)\n",
    "\n",
    "df = pd.DataFrame(data)"
   ]
  },
  {
   "cell_type": "code",
   "execution_count": 24,
   "metadata": {},
   "outputs": [
    {
     "data": {
      "text/plain": [
       "Index(['id', 'mobile', 'alternateMobile', 'fax', 'email', 'url',\n",
       "       'alternateUrl', 'facebook', 'twitter', 'bookingCom', 'virtualTourUrl',\n",
       "       'pictureGuideUrl', 'openingHoursCommentValidTo',\n",
       "       'practicalInformationValidTo', 'address', 'gps', 'texts', 'entranceFee',\n",
       "       'openingHours', 'tagIds', 'mainPhoto', 'photoGallery'],\n",
       "      dtype='object')"
      ]
     },
     "execution_count": 24,
     "metadata": {},
     "output_type": "execute_result"
    }
   ],
   "source": [
    "df.columns"
   ]
  },
  {
   "cell_type": "code",
   "execution_count": 19,
   "metadata": {},
   "outputs": [],
   "source": [
    "df_sel = df[[\"id\",\"address\",\"gps\", \"entranceFee\", \"texts\", \"tagIds\"]]"
   ]
  },
  {
   "cell_type": "code",
   "execution_count": 20,
   "metadata": {},
   "outputs": [
    {
     "name": "stdout",
     "output_type": "stream",
     "text": [
      "<class 'pandas.core.frame.DataFrame'>\n",
      "Int64Index: 0 entries\n",
      "Data columns (total 22 columns):\n",
      " #   Column                       Non-Null Count  Dtype \n",
      "---  ------                       --------------  ----- \n",
      " 0   id                           0 non-null      int64 \n",
      " 1   mobile                       0 non-null      object\n",
      " 2   alternateMobile              0 non-null      object\n",
      " 3   fax                          0 non-null      object\n",
      " 4   email                        0 non-null      object\n",
      " 5   url                          0 non-null      object\n",
      " 6   alternateUrl                 0 non-null      object\n",
      " 7   facebook                     0 non-null      object\n",
      " 8   twitter                      0 non-null      object\n",
      " 9   bookingCom                   0 non-null      object\n",
      " 10  virtualTourUrl               0 non-null      object\n",
      " 11  pictureGuideUrl              0 non-null      object\n",
      " 12  openingHoursCommentValidTo   0 non-null      object\n",
      " 13  practicalInformationValidTo  0 non-null      object\n",
      " 14  address                      0 non-null      object\n",
      " 15  gps                          0 non-null      object\n",
      " 16  texts                        0 non-null      object\n",
      " 17  entranceFee                  0 non-null      object\n",
      " 18  openingHours                 0 non-null      object\n",
      " 19  tagIds                       0 non-null      object\n",
      " 20  mainPhoto                    0 non-null      object\n",
      " 21  photoGallery                 0 non-null      object\n",
      "dtypes: int64(1), object(21)\n",
      "memory usage: 0.0+ bytes\n"
     ]
    }
   ],
   "source": [
    "df.info()"
   ]
  },
  {
   "cell_type": "code",
   "execution_count": null,
   "metadata": {},
   "outputs": [],
   "source": []
  },
  {
   "cell_type": "code",
   "execution_count": null,
   "metadata": {},
   "outputs": [],
   "source": []
  }
 ],
 "metadata": {
  "kernelspec": {
   "display_name": "Python 3.9.5 ('venv': venv)",
   "language": "python",
   "name": "python3"
  },
  "language_info": {
   "codemirror_mode": {
    "name": "ipython",
    "version": 3
   },
   "file_extension": ".py",
   "mimetype": "text/x-python",
   "name": "python",
   "nbconvert_exporter": "python",
   "pygments_lexer": "ipython3",
   "version": "3.9.5"
  },
  "orig_nbformat": 4,
  "vscode": {
   "interpreter": {
    "hash": "a3278395a2ffbc9b86dc060bf8f6c423a4f94874081dc22e0d79235f41fc307c"
   }
  }
 },
 "nbformat": 4,
 "nbformat_minor": 2
}
