{
 "cells": [
  {
   "cell_type": "code",
   "execution_count": 91,
   "metadata": {},
   "outputs": [],
   "source": [
    "import pandas as pd\n",
    "import numpy as np\n",
    "import geopandas as gpd\n",
    "from shapely.geometry import Point\n",
    "import json\n",
    "\n",
    "LANGUAGE = \"en\""
   ]
  },
  {
   "cell_type": "code",
   "execution_count": 92,
   "metadata": {},
   "outputs": [
    {
     "name": "stdout",
     "output_type": "stream",
     "text": [
      "NUmber of tags available: 234\n"
     ]
    },
    {
     "data": {
      "text/html": [
       "<div>\n",
       "<style scoped>\n",
       "    .dataframe tbody tr th:only-of-type {\n",
       "        vertical-align: middle;\n",
       "    }\n",
       "\n",
       "    .dataframe tbody tr th {\n",
       "        vertical-align: top;\n",
       "    }\n",
       "\n",
       "    .dataframe thead th {\n",
       "        text-align: right;\n",
       "    }\n",
       "</style>\n",
       "<table border=\"1\" class=\"dataframe\">\n",
       "  <thead>\n",
       "    <tr style=\"text-align: right;\">\n",
       "      <th></th>\n",
       "      <th>sys_name</th>\n",
       "      <th>name</th>\n",
       "    </tr>\n",
       "    <tr>\n",
       "      <th>id</th>\n",
       "      <th></th>\n",
       "      <th></th>\n",
       "    </tr>\n",
       "  </thead>\n",
       "  <tbody>\n",
       "    <tr>\n",
       "      <th>280</th>\n",
       "      <td>PAMATKYAARCHITEKTURA</td>\n",
       "      <td>Monuments &amp; Architecture</td>\n",
       "    </tr>\n",
       "    <tr>\n",
       "      <th>3</th>\n",
       "      <td>dum</td>\n",
       "      <td>house</td>\n",
       "    </tr>\n",
       "    <tr>\n",
       "      <th>15</th>\n",
       "      <td>fontany,kasny</td>\n",
       "      <td>fountain</td>\n",
       "    </tr>\n",
       "    <tr>\n",
       "      <th>5</th>\n",
       "      <td>hrad</td>\n",
       "      <td>castle/chateau</td>\n",
       "    </tr>\n",
       "    <tr>\n",
       "      <th>11</th>\n",
       "      <td>hrbitov</td>\n",
       "      <td>cemetery</td>\n",
       "    </tr>\n",
       "  </tbody>\n",
       "</table>\n",
       "</div>"
      ],
      "text/plain": [
       "                 sys_name                      name\n",
       "id                                                 \n",
       "280  PAMATKYAARCHITEKTURA  Monuments & Architecture\n",
       "3                     dum                     house\n",
       "15          fontany,kasny                  fountain\n",
       "5                    hrad            castle/chateau\n",
       "11                hrbitov                  cemetery"
      ]
     },
     "execution_count": 92,
     "metadata": {},
     "output_type": "execute_result"
    }
   ],
   "source": [
    "# Loading tags \n",
    "with open('../../data/pragueeu/pragueeu_tags_export.json') as f:\n",
    "    data_tags = json.load(f)\n",
    "\n",
    "tags = []\n",
    "print(\"Number of tags available:\", len(data_tags))\n",
    "for tag in data_tags:\n",
    "    row = {}\n",
    "    row[\"id\"] = tag[\"id\"]\n",
    "    row[\"sys_name\"] = tag[\"systemId\"]\n",
    "    for lang in tag[\"names\"]:\n",
    "        if lang[\"lang\"] == LANGUAGE:\n",
    "            row[\"name\"] = lang[\"name\"]\n",
    "    tags.append(row)\n",
    "\n",
    "df_tags = pd.DataFrame(tags)\n",
    "df_tags.set_index(\"id\", drop=True, inplace=True)\n",
    "df_tags.head()"
   ]
  },
  {
   "cell_type": "code",
   "execution_count": 93,
   "metadata": {},
   "outputs": [
    {
     "name": "stdout",
     "output_type": "stream",
     "text": [
      "Number of places available: 466\n"
     ]
    }
   ],
   "source": [
    "# open destination file\n",
    "with open('../../data/pragueeu/pragueeu_objects_export.json') as f:\n",
    "    data = json.load(f)\n",
    "\n",
    "rows = []\n",
    "\n",
    "print(\"Number of places available:\", len(data))\n",
    "for place in data:\n",
    "    row = {}\n",
    "    row[\"id\"] = place[\"id\"]\n",
    "    \n",
    "    if \"address\" in place and place[\"address\"]:\n",
    "        s = place[\"address\"][\"street\"]\n",
    "        d = place[\"address\"][\"district\"]\n",
    "        t = place[\"address\"][\"town\"] \n",
    "        z = place[\"address\"][\"zipCode\"]  \n",
    "        if s and d and t and z:\n",
    "            row[\"address\"] = s+ \", \" + d + \", \" + t + \", \" + z\n",
    "    if \"gps\" in place and place[\"gps\"]:\n",
    "        gps = place[\"gps\"]\n",
    "        y = gps[\"latitude\"]\n",
    "        x = gps[\"longitude\"]\n",
    "        if x and y:\n",
    "            row[\"geometry\"] = Point(x,y)\n",
    "    for lang in place[\"texts\"]:\n",
    "        if lang[\"lang\"] == LANGUAGE:\n",
    "            row[\"name\"] = lang[\"name\"]\n",
    "            row[\"text\"] = lang[\"shortDescription\"]\n",
    "\n",
    "    for tag_id in place[\"tagIds\"]:\n",
    "        if tag_id in df_tags.index:\n",
    "            tag_name = df_tags.loc[tag_id,\"name\"]\n",
    "            row[tag_name] = True\n",
    "    rows.append(row)"
   ]
  },
  {
   "cell_type": "code",
   "execution_count": 94,
   "metadata": {},
   "outputs": [
    {
     "data": {
      "text/plain": [
       "[{'id': 752,\n",
       "  'address': 'Plzeňská 29, Smíchov, Praha 5, 150 00',\n",
       "  'geometry': <shapely.geometry.point.Point at 0x7f14c48f4e20>,\n",
       "  'name': 'EA Hotel Praga 1885',\n",
       "  'text': 'EA Hotel Praga 1885 is a 4-star hotel in the broader city centre, which interior was inspired by the style at the end of the 19th century. It features 42 spacious rooms and suites, which are equipped with historicist furniture. Breakfast is served here every day. The historical core of metropolis can be reached within a 20-minute drive. ',\n",
       "  'pets allowed': True,\n",
       "  'hotel ****': True,\n",
       "  'in the broader city centre': True}]"
      ]
     },
     "execution_count": 94,
     "metadata": {},
     "output_type": "execute_result"
    }
   ],
   "source": [
    "rows[:1]"
   ]
  },
  {
   "cell_type": "code",
   "execution_count": 95,
   "metadata": {},
   "outputs": [],
   "source": [
    "df = gpd.GeoDataFrame(rows, geometry=\"geometry\", crs=4326)"
   ]
  },
  {
   "cell_type": "code",
   "execution_count": 115,
   "metadata": {},
   "outputs": [],
   "source": [
    "df.columns;"
   ]
  },
  {
   "cell_type": "code",
   "execution_count": 110,
   "metadata": {},
   "outputs": [],
   "source": [
    "df.geometry = df.geometry.to_crs(5514);"
   ]
  },
  {
   "cell_type": "code",
   "execution_count": 111,
   "metadata": {},
   "outputs": [
    {
     "data": {
      "text/html": [
       "<div>\n",
       "<style scoped>\n",
       "    .dataframe tbody tr th:only-of-type {\n",
       "        vertical-align: middle;\n",
       "    }\n",
       "\n",
       "    .dataframe tbody tr th {\n",
       "        vertical-align: top;\n",
       "    }\n",
       "\n",
       "    .dataframe thead th {\n",
       "        text-align: right;\n",
       "    }\n",
       "</style>\n",
       "<table border=\"1\" class=\"dataframe\">\n",
       "  <thead>\n",
       "    <tr style=\"text-align: right;\">\n",
       "      <th></th>\n",
       "      <th>id</th>\n",
       "      <th>address</th>\n",
       "      <th>geometry</th>\n",
       "      <th>name</th>\n",
       "      <th>text</th>\n",
       "      <th>pets allowed</th>\n",
       "      <th>hotel ****</th>\n",
       "      <th>in the broader city centre</th>\n",
       "      <th>parking</th>\n",
       "      <th>hotel ***</th>\n",
       "      <th>...</th>\n",
       "      <th>hotel **</th>\n",
       "      <th>multifunctional space</th>\n",
       "      <th>Art Nouveau</th>\n",
       "      <th>observatory/planetarium</th>\n",
       "      <th>concert hall</th>\n",
       "      <th>modern architecture</th>\n",
       "      <th>botanical garden</th>\n",
       "      <th>botel</th>\n",
       "      <th>Classicism &amp; Empire</th>\n",
       "      <th>walks</th>\n",
       "    </tr>\n",
       "  </thead>\n",
       "  <tbody>\n",
       "    <tr>\n",
       "      <th>0</th>\n",
       "      <td>752</td>\n",
       "      <td>Plzeňská 29, Smíchov, Praha 5, 150 00</td>\n",
       "      <td>POINT (-744808.176 -1044450.855)</td>\n",
       "      <td>EA Hotel Praga 1885</td>\n",
       "      <td>EA Hotel Praga 1885 is a 4-star hotel in the b...</td>\n",
       "      <td>True</td>\n",
       "      <td>True</td>\n",
       "      <td>True</td>\n",
       "      <td>NaN</td>\n",
       "      <td>NaN</td>\n",
       "      <td>...</td>\n",
       "      <td>NaN</td>\n",
       "      <td>NaN</td>\n",
       "      <td>NaN</td>\n",
       "      <td>NaN</td>\n",
       "      <td>NaN</td>\n",
       "      <td>NaN</td>\n",
       "      <td>NaN</td>\n",
       "      <td>NaN</td>\n",
       "      <td>NaN</td>\n",
       "      <td>NaN</td>\n",
       "    </tr>\n",
       "  </tbody>\n",
       "</table>\n",
       "<p>1 rows × 83 columns</p>\n",
       "</div>"
      ],
      "text/plain": [
       "    id                                address  \\\n",
       "0  752  Plzeňská 29, Smíchov, Praha 5, 150 00   \n",
       "\n",
       "                           geometry                 name  \\\n",
       "0  POINT (-744808.176 -1044450.855)  EA Hotel Praga 1885   \n",
       "\n",
       "                                                text pets allowed hotel ****  \\\n",
       "0  EA Hotel Praga 1885 is a 4-star hotel in the b...         True       True   \n",
       "\n",
       "  in the broader city centre parking hotel ***  ... hotel **  \\\n",
       "0                       True     NaN       NaN  ...      NaN   \n",
       "\n",
       "  multifunctional space Art Nouveau observatory/planetarium concert hall  \\\n",
       "0                   NaN         NaN                     NaN          NaN   \n",
       "\n",
       "  modern architecture botanical garden botel Classicism & Empire walks  \n",
       "0                 NaN              NaN   NaN                 NaN   NaN  \n",
       "\n",
       "[1 rows x 83 columns]"
      ]
     },
     "execution_count": 111,
     "metadata": {},
     "output_type": "execute_result"
    }
   ],
   "source": [
    "df.head(1)"
   ]
  },
  {
   "cell_type": "code",
   "execution_count": 112,
   "metadata": {},
   "outputs": [],
   "source": [
    "jdf = df.to_json(na=\"drop\");"
   ]
  },
  {
   "cell_type": "code",
   "execution_count": 113,
   "metadata": {},
   "outputs": [],
   "source": [
    "jdf;"
   ]
  },
  {
   "cell_type": "code",
   "execution_count": 114,
   "metadata": {},
   "outputs": [],
   "source": [
    "# Using a JSON string\n",
    "path = \"../../data/pragueeu/tourism_dest.json\"\n",
    "with open(path, 'w') as outfile:\n",
    "    outfile.write(jdf)"
   ]
  },
  {
   "cell_type": "code",
   "execution_count": null,
   "metadata": {},
   "outputs": [],
   "source": []
  }
 ],
 "metadata": {
  "kernelspec": {
   "display_name": "Python 3.9.5 ('venv': venv)",
   "language": "python",
   "name": "python3"
  },
  "language_info": {
   "codemirror_mode": {
    "name": "ipython",
    "version": 3
   },
   "file_extension": ".py",
   "mimetype": "text/x-python",
   "name": "python",
   "nbconvert_exporter": "python",
   "pygments_lexer": "ipython3",
   "version": "3.9.5"
  },
  "orig_nbformat": 4,
  "vscode": {
   "interpreter": {
    "hash": "a3278395a2ffbc9b86dc060bf8f6c423a4f94874081dc22e0d79235f41fc307c"
   }
  }
 },
 "nbformat": 4,
 "nbformat_minor": 2
}
